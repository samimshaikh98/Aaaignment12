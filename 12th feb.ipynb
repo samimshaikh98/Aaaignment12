{
 "cells": [
  {
   "cell_type": "markdown",
   "id": "a45504fb-cd5c-4d1a-b84a-9eb78ef80fd6",
   "metadata": {},
   "source": [
    "QI. What is an Exception in python? Write the difference between Exceptions and Syntax errors.\n"
   ]
  },
  {
   "cell_type": "markdown",
   "id": "99e97c0c-ce50-47db-8a55-c451982cd011",
   "metadata": {},
   "source": [
    "An Exception in Python is an event that occurs during the execution of a program that disrupts the normal flow of instructions. When an exception occurs, the program stops executing and jumps to the nearest exception handling code to deal with the error.\n",
    "\n",
    "There are several types of exceptions in Python, including:\n",
    "\n",
    "    SyntaxError: This error occurs when there is a syntax error in the code.\n",
    "\n",
    "    NameError: This error occurs when a variable or function is used without being defined.\n",
    "\n",
    "    TypeError: This error occurs when an operation or function is applied to the wrong type of object.\n",
    "\n",
    "    IndexError: This error occurs when an index is out of range.\n",
    "\n",
    "    ValueError: This error occurs when a function is called with an argument of the correct type, but an inappropriate value.\n",
    "\n",
    "The main difference between Exceptions and Syntax errors is that syntax errors occur when there is a mistake in the syntax of the code, while exceptions occur during runtime when the code is being executed.\n",
    "\n",
    "Another difference is that Syntax errors are easy to catch and fix since they are identified by the Python interpreter during the compilation of the code. Exceptions, on the other hand, are usually harder to identify since they only occur during runtime. Therefore, it is important to use exception handling mechanisms to catch and deal with exceptions when they occur in the code"
   ]
  },
  {
   "cell_type": "code",
   "execution_count": null,
   "id": "230324a0-6a9e-4c66-a035-19c4992d3a14",
   "metadata": {},
   "outputs": [],
   "source": [
    "Q2. What happens when an exception is not handled? Explain with an example.\n"
   ]
  },
  {
   "cell_type": "markdown",
   "id": "e41d7140-bc57-48e9-9231-f69e4222de4a",
   "metadata": {},
   "source": [
    "When an exception is not handled in a Python program, it will cause the program to terminate abruptly with an error message indicating the type of exception that occurred. This can be problematic, especially in larger programs, because it can leave the program in an inconsistent state or leave resources (such as files or network connections) open and not properly closed."
   ]
  },
  {
   "cell_type": "code",
   "execution_count": 1,
   "id": "87fa0861-c653-4762-b026-3143e6ab0bbd",
   "metadata": {},
   "outputs": [
    {
     "name": "stdin",
     "output_type": "stream",
     "text": [
      "Enter a number:  12\n",
      "Enter another number:  34\n"
     ]
    },
    {
     "name": "stdout",
     "output_type": "stream",
     "text": [
      "Result:  0.35294117647058826\n"
     ]
    }
   ],
   "source": [
    "try:\n",
    "   num1 = int(input(\"Enter a number: \"))\n",
    "   num2 = int(input(\"Enter another number: \"))\n",
    "   result = num1 / num2\n",
    "   print(\"Result: \", result)\n",
    "except ValueError:\n",
    "   print(\"Invalid input. Please enter a valid number.\")\n"
   ]
  },
  {
   "cell_type": "markdown",
   "id": "a2796cd0-0d7f-4485-ad06-7e4ec233167d",
   "metadata": {},
   "source": [
    "  \n",
    "\n",
    "Q3. Which Python statements are used to catch and handle exceptions? Explain with an example.\n",
    "\n",
    "\n"
   ]
  },
  {
   "cell_type": "markdown",
   "id": "f96a3146-4c06-4b8b-9c06-b99dd5eed9c7",
   "metadata": {},
   "source": [
    "In Python, the try and except statements are used to catch and handle exceptions. The try block contains the code that may raise an exception, while the except block contains the code that handles the exception if it occurs."
   ]
  },
  {
   "cell_type": "code",
   "execution_count": 4,
   "id": "b898d7ab-ef43-4e32-ac31-275eaebaa88a",
   "metadata": {},
   "outputs": [
    {
     "name": "stdin",
     "output_type": "stream",
     "text": [
      "Enter a number:  56\n",
      "Enter another number:  34\n"
     ]
    },
    {
     "name": "stdout",
     "output_type": "stream",
     "text": [
      "Result:  1.6470588235294117\n"
     ]
    }
   ],
   "source": [
    "try:\n",
    "   num1 = int(input(\"Enter a number: \"))\n",
    "   num2 = int(input(\"Enter another number: \"))\n",
    "   result = num1 / num2\n",
    "   print(\"Result: \", result)\n",
    "except ValueError:\n",
    "   print(\"Invalid input. Please enter a valid number.\")\n",
    "except ZeroDivisionError:\n",
    "   print(\"Cannot divide by zero. Please enter a non-zero number for the second input.\")\n"
   ]
  },
  {
   "cell_type": "markdown",
   "id": "ccfa41fc-bb8c-4ede-bd95-dfc5da9b4493",
   "metadata": {},
   "source": [
    "Q4. Explain with an example:\n",
    "\n",
    "a. tryand else\n",
    ". finally\n",
    "c. raise\n"
   ]
  },
  {
   "cell_type": "markdown",
   "id": "98a0eba8-b7a9-431e-bd10-6041d86ae59a",
   "metadata": {},
   "source": [
    "he try and else blocks are used to specify a block of code to be executed if no exception occurs. The else block is executed only if the code in the try block runs successfully without raising any exceptions. Here's an example:"
   ]
  },
  {
   "cell_type": "code",
   "execution_count": 5,
   "id": "76ec6301-5741-4544-ae9e-1bb7dce19343",
   "metadata": {},
   "outputs": [
    {
     "name": "stdin",
     "output_type": "stream",
     "text": [
      "Enter a number:  12\n",
      "Enter another number:  16\n"
     ]
    },
    {
     "name": "stdout",
     "output_type": "stream",
     "text": [
      "The result is:  0.75\n"
     ]
    }
   ],
   "source": [
    "try:\n",
    "   num1 = int(input(\"Enter a number: \"))\n",
    "   num2 = int(input(\"Enter another number: \"))\n",
    "   result = num1 / num2\n",
    "except ValueError:\n",
    "   print(\"Invalid input. Please enter a valid number.\")\n",
    "else:\n",
    "   print(\"The result is: \", result)\n"
   ]
  },
  {
   "cell_type": "markdown",
   "id": "e7dde6ba-39c9-4196-8a7b-4b057005d851",
   "metadata": {},
   "source": [
    "The finally block is used to specify a block of code that will always be executed, regardless of whether an exception is raised or not. This is useful for cleaning up resources or closing connections, even if an exception occurs. Here's an example:"
   ]
  },
  {
   "cell_type": "code",
   "execution_count": 13,
   "id": "bbf8469c-4234-4d88-8a0d-e594ebe649ec",
   "metadata": {},
   "outputs": [
    {
     "name": "stdout",
     "output_type": "stream",
     "text": [
      "An error occurred while reading the file.\n"
     ]
    },
    {
     "ename": "NameError",
     "evalue": "name 'f' is not defined",
     "output_type": "error",
     "traceback": [
      "\u001b[0;31m---------------------------------------------------------------------------\u001b[0m",
      "\u001b[0;31mNameError\u001b[0m                                 Traceback (most recent call last)",
      "Cell \u001b[0;32mIn [13], line 7\u001b[0m\n\u001b[1;32m      5\u001b[0m    \u001b[38;5;28mprint\u001b[39m(\u001b[38;5;124m\"\u001b[39m\u001b[38;5;124mAn error occurred while reading the file.\u001b[39m\u001b[38;5;124m\"\u001b[39m)\n\u001b[1;32m      6\u001b[0m \u001b[38;5;28;01mfinally\u001b[39;00m:\n\u001b[0;32m----> 7\u001b[0m    \u001b[43mf\u001b[49m\u001b[38;5;241m.\u001b[39mclose()\n",
      "\u001b[0;31mNameError\u001b[0m: name 'f' is not defined"
     ]
    }
   ],
   "source": [
    "try:\n",
    "   f = open(\"file.txt\", \"r\")\n",
    "   # some code that reads data from the file\n",
    "except IOError:\n",
    "   print(\"An error occurred while reading the file.\")\n",
    "finally:\n",
    "   f.close()\n"
   ]
  },
  {
   "cell_type": "markdown",
   "id": "5558aae9-a2e0-4e79-996b-5f34b52ceaa4",
   "metadata": {},
   "source": [
    "The raise statement is used to explicitly raise an exception in Python. This is useful for handling specific cases where you want to raise an exception based on certain conditions. Here's an example:"
   ]
  },
  {
   "cell_type": "code",
   "execution_count": 14,
   "id": "bbc52912-9c11-4b6b-af6e-f58c6e8313b9",
   "metadata": {},
   "outputs": [
    {
     "name": "stdout",
     "output_type": "stream",
     "text": [
      "Cannot divide by zero.\n"
     ]
    }
   ],
   "source": [
    "def divide(num1, num2):\n",
    "   if num2 == 0:\n",
    "      raise ZeroDivisionError(\"Cannot divide by zero.\")\n",
    "   else:\n",
    "      return num1 / num2\n",
    "\n",
    "try:\n",
    "   result = divide(10, 0)\n",
    "   print(\"Result: \", result)\n",
    "except ZeroDivisionError as e:\n",
    "   print(e)\n"
   ]
  },
  {
   "cell_type": "markdown",
   "id": "138e195e-1163-4b56-b594-fcdf40f64169",
   "metadata": {},
   "source": [
    "Q5. What are Custom Exceptions in python? Why do we need Custom Exceptions? Explain with an example.\n"
   ]
  },
  {
   "cell_type": "markdown",
   "id": "c8e5c914-888a-4d40-84fd-2ab931891e25",
   "metadata": {},
   "source": [
    "Custom Exceptions in Python are user-defined exceptions that are created by the programmer to represent specific error conditions that are not covered by the built-in exception classes. We need custom exceptions to handle specific errors in our code and to provide more meaningful and informative error messages to the user."
   ]
  },
  {
   "cell_type": "code",
   "execution_count": 15,
   "id": "ff8f54a0-eebb-4e81-b613-482ce8e51150",
   "metadata": {},
   "outputs": [
    {
     "name": "stdout",
     "output_type": "stream",
     "text": [
      "The second input cannot be zero.\n"
     ]
    }
   ],
   "source": [
    "class InvalidInputError(Exception):\n",
    "   def __init__(self, message):\n",
    "      self.message = message\n",
    "\n",
    "def divide(num1, num2):\n",
    "   if num2 == 0:\n",
    "      raise InvalidInputError(\"The second input cannot be zero.\")\n",
    "   else:\n",
    "      return num1 / num2\n",
    "\n",
    "try:\n",
    "   result = divide(10, 0)\n",
    "   print(\"Result: \", result)\n",
    "except InvalidInputError as e:\n",
    "   print(e.message)\n"
   ]
  },
  {
   "cell_type": "markdown",
   "id": "aef8798f-e405-4445-9438-799eab563148",
   "metadata": {},
   "source": [
    "In this example, we define a custom exception called InvalidInputError that inherits from the built-in Exception class. The InvalidInputError class has an initializer method that takes a message argument and sets it to the message attribute of the object.\n",
    "\n",
    "The divide function takes two arguments and returns their division. However, if the second argument is zero, the function raises an InvalidInputError exception with a custom error message. In the try block, the function is called with arguments that will raise the exception. The except block catches the InvalidInputError exception and prints the error message, which is provided by the custom exception.\n",
    "\n",
    "This example shows how to create a custom exception to handle a specific error condition and to provide a more meaningful and informative error message to the user. Custom exceptions can make code more robust and easier to maintain by providing a standardized way to handle specific error conditions."
   ]
  },
  {
   "cell_type": "markdown",
   "id": "b542e792-b8c5-4099-8fcf-d50df8f3546c",
   "metadata": {},
   "source": [
    "Q6. Create a custom exception class. Use this class to handle an exception.\n"
   ]
  },
  {
   "cell_type": "code",
   "execution_count": 16,
   "id": "70b90d04-a483-433e-ae77-9dd01f935fb2",
   "metadata": {},
   "outputs": [
    {
     "name": "stdout",
     "output_type": "stream",
     "text": [
      "Error: Input cannot be negative.\n"
     ]
    }
   ],
   "source": [
    "class NegativeValueError(Exception):\n",
    "    def __init__(self, message):\n",
    "        self.message = message\n",
    "\n",
    "def calculate_square_root(num):\n",
    "    if num < 0:\n",
    "        raise NegativeValueError(\"Input cannot be negative.\")\n",
    "    else:\n",
    "        return num ** 0.5\n",
    "\n",
    "try:\n",
    "    result = calculate_square_root(-4)\n",
    "    print(\"The square root of -4 is:\", result)\n",
    "except NegativeValueError as e:\n",
    "    print(\"Error:\", e.message)\n"
   ]
  },
  {
   "cell_type": "code",
   "execution_count": null,
   "id": "bf2db50d-d06a-4521-8b82-938fbeb6af2e",
   "metadata": {},
   "outputs": [],
   "source": []
  }
 ],
 "metadata": {
  "kernelspec": {
   "display_name": "Python 3 (ipykernel)",
   "language": "python",
   "name": "python3"
  },
  "language_info": {
   "codemirror_mode": {
    "name": "ipython",
    "version": 3
   },
   "file_extension": ".py",
   "mimetype": "text/x-python",
   "name": "python",
   "nbconvert_exporter": "python",
   "pygments_lexer": "ipython3",
   "version": "3.10.6"
  }
 },
 "nbformat": 4,
 "nbformat_minor": 5
}
